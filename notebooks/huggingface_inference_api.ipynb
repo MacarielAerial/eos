{
 "cells": [
  {
   "cell_type": "code",
   "execution_count": 26,
   "metadata": {},
   "outputs": [],
   "source": [
    "import json\n",
    "\n",
    "\n",
    "source_themes = []\n",
    "with open(\"../data/01_raw/industrial_business_theme_descriptions.jsonl\", \"r\") as f:\n",
    "    for line in f.readlines():\n",
    "        source_themes.append(json.loads(line))"
   ]
  },
  {
   "cell_type": "code",
   "execution_count": 27,
   "metadata": {},
   "outputs": [],
   "source": [
    "import os\n",
    "import requests\n",
    "from dotenv import load_dotenv\n",
    "\n",
    "load_dotenv()\n",
    "\n",
    "API_TOKEN = os.environ[\"HuggingFaceAccessToken\"]\n",
    "\n",
    "API_URL = \"https://api-inference.huggingface.co/models/tiiuae/falcon-7b-instruct\"\n",
    "headers = {\"Authorization\": f\"Bearer {API_TOKEN}\"}\n",
    "def query(payload):\n",
    "    response = requests.post(API_URL, headers=headers, json=payload)\n",
    "    return response.json()\n",
    "prompt = f\"Can you assign a industry label for the following two themes (i.e. sub-industries):\\n{source_themes[:2]}\"\n",
    "output = query({\n",
    "\t\"inputs\": prompt})"
   ]
  },
  {
   "cell_type": "code",
   "execution_count": 32,
   "metadata": {},
   "outputs": [
    {
     "data": {
      "text/plain": [
       "\"Can you assign a industry label for the following two themes (i.e. sub-industries):\\n[{'theme': 'Customer Support', 'sector': 'Industrial & Business', 'description': 'Customer support is a critical aspect of any business, as it directly impacts customer satisfaction and loyalty. It involves providing timely and effective assistance to customers through various channels, such as phone, email, chat, and social media. The goal of customer support is to resolve customer issues and concerns in a timely and efficient manner, while also providing a positive customer experience. This can involve troubleshooting and resolving technical issues, answering product-related questions, and addressing customer complaints. Effective customer support can help build trust and loyalty with customers, leading to increased repeat business and positive word-of-mouth marketing. In the context of the advertising, marketing, and customer support services industry, customer support is a key differentiator for companies that want to stand out from the competition and provide a superior customer experience.'}, {'theme': 'Testing & Inspection Equipment', 'sector': 'Industrial & Business', 'description': 'Testing and inspection equipment in the machinery industry is a critical theme that enables manufacturers to ensure the quality and reliability of their products. This equipment includes a wide range of tools and devices designed to evaluate the performance, safety, and durability of machinery components and systems. These tests can range from simple visual inspections to complex stress tests, and may involve various methods such as mechanical testing, electrical testing, and thermal testing. By investing in high-quality testing and inspection equipment, manufacturers can identify potential issues early on, reduce the risk of defects and failures, and ultimately improve the overall quality and reliability of their products, which can lead to increased customer satisfaction and loyalty, as well as improved brand reputation and market share.'}]\""
      ]
     },
     "execution_count": 32,
     "metadata": {},
     "output_type": "execute_result"
    }
   ],
   "source": [
    "prompt"
   ]
  },
  {
   "cell_type": "code",
   "execution_count": 33,
   "metadata": {},
   "outputs": [
    {
     "name": "stdout",
     "output_type": "stream",
     "text": [
      "('Can you assign a industry label for the following two themes (i.e. '\n",
      " 'sub-industries):\\n'\n",
      " \"[{'theme': 'Customer Support', 'sector': 'Industrial & Business', \"\n",
      " \"'description': 'Customer support is a critical aspect of any business, as it \"\n",
      " 'directly impacts customer satisfaction and loyalty. It involves providing '\n",
      " 'timely and effective assistance to customers through various channels, such '\n",
      " 'as phone, email, chat, and social media. The goal of customer support is to '\n",
      " 'resolve customer issues and concerns in a timely and efficient manner, while '\n",
      " 'also providing a positive customer experience. This can involve '\n",
      " 'troubleshooting and resolving technical issues, answering product-related '\n",
      " 'questions, and addressing customer complaints. Effective customer support '\n",
      " 'can help build trust and loyalty with customers, leading to increased repeat '\n",
      " 'business and positive word-of-mouth marketing. In the context of the '\n",
      " 'advertising, marketing, and customer support services industry, customer '\n",
      " 'support is a key differentiator for companies that want to stand out from '\n",
      " \"the competition and provide a superior customer experience.'}, {'theme': \"\n",
      " \"'Testing & Inspection Equipment', 'sector': 'Industrial & Business', \"\n",
      " \"'description': 'Testing and inspection equipment in the machinery industry \"\n",
      " 'is a critical theme that enables manufacturers to ensure the quality and '\n",
      " 'reliability of their products. This equipment includes a wide range of tools '\n",
      " 'and devices designed to evaluate the performance, safety, and durability of '\n",
      " 'machinery components and systems. These tests can range from simple visual '\n",
      " 'inspections to complex stress tests, and may involve various methods such as '\n",
      " 'mechanical testing, electrical testing, and thermal testing. By investing in '\n",
      " 'high-quality testing and inspection equipment, manufacturers can identify '\n",
      " 'potential issues early on, reduce the risk of defects and failures, and '\n",
      " 'ultimately improve the overall quality and reliability of their products, '\n",
      " 'which can lead to increased customer satisfaction and loyalty, as well as '\n",
      " \"improved brand reputation and market share.'}]\")\n"
     ]
    }
   ],
   "source": [
    "from pprint import pprint\n",
    "\n",
    "\n",
    "pprint(output[0][\"generated_text\"])"
   ]
  }
 ],
 "metadata": {
  "kernelspec": {
   "display_name": ".venv",
   "language": "python",
   "name": "python3"
  },
  "language_info": {
   "codemirror_mode": {
    "name": "ipython",
    "version": 3
   },
   "file_extension": ".py",
   "mimetype": "text/x-python",
   "name": "python",
   "nbconvert_exporter": "python",
   "pygments_lexer": "ipython3",
   "version": "3.10.12"
  }
 },
 "nbformat": 4,
 "nbformat_minor": 2
}
