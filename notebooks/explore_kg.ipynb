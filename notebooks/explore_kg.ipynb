{
 "cells": [
  {
   "cell_type": "code",
   "execution_count": 3,
   "metadata": {},
   "outputs": [
    {
     "data": {
      "text/plain": [
       "True"
      ]
     },
     "execution_count": 3,
     "metadata": {},
     "output_type": "execute_result"
    }
   ],
   "source": [
    "from pathlib import Path\n",
    "\n",
    "from eos.data_interfaces.nx_g_data_interface import NXGDataInterface\n",
    "from ariadne.pipelines.vis_nx_g import return_fig_multigraph\n",
    "\n",
    "\n",
    "path_nx_g = Path(\"../data/04_feature/nx_g.json\")\n",
    "\n",
    "nx_g_data_interface = NXGDataInterface(path_nx_g)\n",
    "nx_g = nx_g_data_interface.load()"
   ]
  },
  {
   "cell_type": "code",
   "execution_count": 2,
   "metadata": {},
   "outputs": [
    {
     "ename": "TypeError",
     "evalue": "OutEdgeView.__call__() got an unexpected keyword argument 'keys'",
     "output_type": "error",
     "traceback": [
      "\u001b[0;31m---------------------------------------------------------------------------\u001b[0m",
      "\u001b[0;31mTypeError\u001b[0m                                 Traceback (most recent call last)",
      "Cell \u001b[0;32mIn[2], line 1\u001b[0m\n\u001b[0;32m----> 1\u001b[0m fig \u001b[38;5;241m=\u001b[39m \u001b[43mreturn_fig_multigraph\u001b[49m\u001b[43m(\u001b[49m\u001b[43mnx_g\u001b[49m\u001b[43m)\u001b[49m\n\u001b[1;32m      2\u001b[0m fig\n",
      "File \u001b[0;32m~/Projects/eos/.venv/lib/python3.10/site-packages/ariadne/pipelines/vis_nx_g.py:98\u001b[0m, in \u001b[0;36mreturn_fig_multigraph\u001b[0;34m(nx_g)\u001b[0m\n\u001b[1;32m     95\u001b[0m edge_marker_x \u001b[38;5;241m=\u001b[39m []\n\u001b[1;32m     96\u001b[0m edge_marker_y \u001b[38;5;241m=\u001b[39m []\n\u001b[0;32m---> 98\u001b[0m \u001b[38;5;28;01mfor\u001b[39;00m u, v, key, data \u001b[38;5;129;01min\u001b[39;00m \u001b[43mnx_g\u001b[49m\u001b[38;5;241;43m.\u001b[39;49m\u001b[43medges\u001b[49m\u001b[43m(\u001b[49m\u001b[43mkeys\u001b[49m\u001b[38;5;241;43m=\u001b[39;49m\u001b[38;5;28;43;01mTrue\u001b[39;49;00m\u001b[43m,\u001b[49m\u001b[43m \u001b[49m\u001b[43mdata\u001b[49m\u001b[38;5;241;43m=\u001b[39;49m\u001b[38;5;28;43;01mTrue\u001b[39;49;00m\u001b[43m)\u001b[49m:\n\u001b[1;32m     99\u001b[0m     \u001b[38;5;28;01mif\u001b[39;00m data[\u001b[38;5;124m\"\u001b[39m\u001b[38;5;124metype\u001b[39m\u001b[38;5;124m\"\u001b[39m] \u001b[38;5;241m==\u001b[39m etype:\n\u001b[1;32m    100\u001b[0m         x0, y0 \u001b[38;5;241m=\u001b[39m pos[u]\n",
      "\u001b[0;31mTypeError\u001b[0m: OutEdgeView.__call__() got an unexpected keyword argument 'keys'"
     ]
    }
   ],
   "source": [
    "fig = return_fig_multigraph(nx_g)\n",
    "fig"
   ]
  }
 ],
 "metadata": {
  "kernelspec": {
   "display_name": ".venv",
   "language": "python",
   "name": "python3"
  },
  "language_info": {
   "codemirror_mode": {
    "name": "ipython",
    "version": 3
   },
   "file_extension": ".py",
   "mimetype": "text/x-python",
   "name": "python",
   "nbconvert_exporter": "python",
   "pygments_lexer": "ipython3",
   "version": "3.10.12"
  }
 },
 "nbformat": 4,
 "nbformat_minor": 2
}
